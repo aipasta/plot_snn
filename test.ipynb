{
 "cells": [
  {
   "cell_type": "code",
   "execution_count": 2,
   "metadata": {},
   "outputs": [],
   "source": [
    "import torch\n",
    "import numpy as np \n",
    "import math\n",
    "import matplotlib.pyplot as plt"
   ]
  },
  {
   "cell_type": "code",
   "execution_count": 5,
   "metadata": {},
   "outputs": [],
   "source": [
    "filename = 'res/mnist_dvs_prediction_train_ml_multi_digits2_Nite1_exsingle_Eptr10_Epte5_Nll10_decsingle_Lr0.05_Nh4_K5_C1_kappa0.05_beta0.05_nbasis3_tau10-0311-1909-ni1h4k5lr0.05kk0.05b0.05nb3tt10.pth'"
   ]
  },
  {
   "cell_type": "code",
   "execution_count": 6,
   "metadata": {},
   "outputs": [],
   "source": [
    "load_result = torch.load(filename)"
   ]
  },
  {
   "cell_type": "code",
   "execution_count": 9,
   "metadata": {},
   "outputs": [
    {
     "data": {
      "text/plain": [
       "dict_keys(['mode', 'num_ite', 'epochs', 'epochs_test', 'num_ll_est', 'learning_rate', 'lr_const', 'kappa', 'alpha', 'beta', 'debug_flag', 'debug_period', 'n_hidden_neurons_', 'num_samples_', 'acc_train_t', 'loss_output_train_t', 'acc_train_f', 'loss_output_train_f', 'spikenum_hid_t', 'spikenum_output_t', 'spikenum_hid_f', 'spikenum_output_f', 'acc_test_t', 'loss_output_test_t', 'acc_test_f', 'loss_output_test_f', 'network', 'alphabet_size', 'dec_type'])"
      ]
     },
     "execution_count": 9,
     "metadata": {},
     "output_type": "execute_result"
    }
   ],
   "source": [
    "load_result.keys()"
   ]
  },
  {
   "cell_type": "code",
   "execution_count": null,
   "metadata": {},
   "outputs": [],
   "source": []
  }
 ],
 "metadata": {
  "kernelspec": {
   "display_name": "Python 3",
   "language": "python",
   "name": "python3"
  },
  "language_info": {
   "codemirror_mode": {
    "name": "ipython",
    "version": 3
   },
   "file_extension": ".py",
   "mimetype": "text/x-python",
   "name": "python",
   "nbconvert_exporter": "python",
   "pygments_lexer": "ipython3",
   "version": "3.7.2"
  }
 },
 "nbformat": 4,
 "nbformat_minor": 4
}
