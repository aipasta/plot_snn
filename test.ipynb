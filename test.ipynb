{
 "cells": [
  {
   "cell_type": "code",
   "execution_count": 1,
   "metadata": {},
   "outputs": [],
   "source": [
    "import os\n",
    "import torch\n",
    "import numpy as np \n",
    "import math\n",
    "import matplotlib.pyplot as plt\n",
    "from eval import *"
   ]
  },
  {
   "cell_type": "markdown",
   "metadata": {},
   "source": [
    "## Filename\n",
    "\n",
    "\n",
    "- Format:\n",
    "task_digits_ex_dec_eptrain_eptest_mode_niter_Nh_Nk_lr_lrconst_kappa_Nb_nll_time\n",
    "\n",
    "- Example: \n",
    "```task-prediction_digits-2_ex-single_dec-majority_eptrain-30_eptest-30_mode-iw_niter-3_Nh-2_Nk-10_lr-0.05_lrconst-1.5_kappa-0.05_Nb-8_nll-10_time-03131500.pth```\n",
    "\n",
    "fixed variable: task, ex, dec, eptrain, eptest\n",
    "control variable: mode (mb, iw, iwb, gem), niter, Nh, Nk, Nb, nll (integer), lr, lrconst, kappa (float)"
   ]
  },
  {
   "cell_type": "code",
   "execution_count": 2,
   "metadata": {},
   "outputs": [],
   "source": [
    "input_hprof_1 = { \n",
    "'task': 'prediction',\n",
    "'digits': '2',\n",
    "'ex': 'single',\n",
    "'dec': 'majority',\n",
    "'eptrain': '10',\n",
    "'eptest': '30',\n",
    "'mode': 'iw',\n",
    "'Nh': '2',\n",
    "'Nk': '10',\n",
    "'lr': '0.05',\n",
    "'lrconst': '1.5',\n",
    "'kappa': '0.05',\n",
    "'Nb': '8',\n",
    "'nll': '10',\n",
    "'time': '03131600'\n",
    "}    \n",
    "input_hprof_2 = { \n",
    "'task': 'prediction',\n",
    "'digits': '2',\n",
    "'ex': 'single',\n",
    "'dec': 'majority',\n",
    "'eptrain': '30',\n",
    "'eptest': '30',\n",
    "'mode': 'iw',\n",
    "'niter': '3',\n",
    "'Nh': '2',\n",
    "'Nk': '10',\n",
    "'lr': '0.05',\n",
    "'lrconst': '1.5',\n",
    "'kappa': '0.05',\n",
    "'Nb': '8',\n",
    "'nll': '10'\n",
    "}    \n"
   ]
  },
  {
   "cell_type": "code",
   "execution_count": 3,
   "metadata": {},
   "outputs": [],
   "source": [
    "hprof_file_list = load_hprof_from_files('res')\n",
    "# hprof_file_list"
   ]
  },
  {
   "cell_type": "code",
   "execution_count": 4,
   "metadata": {},
   "outputs": [
    {
     "data": {
      "text/plain": [
       "3"
      ]
     },
     "execution_count": 4,
     "metadata": {},
     "output_type": "execute_result"
    }
   ],
   "source": [
    "metrics = ['loss_output_train_t', 'acc_train_t', 'spikenum_hid_t']\n",
    "time_range = ['03131200', '03131830']\n",
    "# time_range = ['03131200', '03131330']\n",
    "\n",
    "target_hprofs_1 = get_hprof_separate_iter(hprof_file_list, input_hprof_1, time_range)\n",
    "len(target_hprofs_1)"
   ]
  },
  {
   "cell_type": "code",
   "execution_count": 5,
   "metadata": {},
   "outputs": [
    {
     "name": "stdout",
     "output_type": "stream",
     "text": [
      "{'loss_output_train_t': array([[-33415.62890625, -33415.62890625, -20489.4296875 ],\n",
      "       [-12025.88085938, -12025.88085938,  -8717.87890625],\n",
      "       [ -6845.67578125,  -6845.67578125,  -6368.36669922],\n",
      "       [ -4381.99658203,  -4381.99658203,  -5211.83105469],\n",
      "       [ -3527.9140625 ,  -3527.9140625 ,  -4469.60205078],\n",
      "       [ -2917.02978516,  -2917.02978516,  -3957.89477539],\n",
      "       [ -2547.62646484,  -2547.62646484,  -3557.6784668 ],\n",
      "       [ -2291.2902832 ,  -2291.2902832 ,  -3257.36791992],\n",
      "       [ -2104.32324219,  -2104.32324219,  -3021.91918945],\n",
      "       [ -1957.88500977,  -1957.88500977,  -2822.79394531]]), 'acc_train_t': array([[0.        , 0.        , 0.03333334],\n",
      "       [0.30000001, 0.30000001, 0.69999999],\n",
      "       [0.        , 0.        , 0.63333333],\n",
      "       [0.1       , 0.1       , 0.73333335],\n",
      "       [0.60000002, 0.60000002, 0.76666665],\n",
      "       [0.40000001, 0.40000001, 0.89999998],\n",
      "       [0.69999999, 0.69999999, 0.86666667],\n",
      "       [0.30000001, 0.30000001, 0.76666665],\n",
      "       [0.60000002, 0.60000002, 0.69999999],\n",
      "       [0.5       , 0.5       , 0.76666665]]), 'spikenum_hid_t': array([[ 797.,  797., 2379.],\n",
      "       [ 824.,  824., 2059.],\n",
      "       [ 837.,  837., 2042.],\n",
      "       [ 837.,  837., 2016.],\n",
      "       [ 835.,  835., 2038.],\n",
      "       [ 834.,  834., 2029.],\n",
      "       [ 840.,  840., 2015.],\n",
      "       [ 847.,  847., 2032.],\n",
      "       [ 857.,  857., 2028.],\n",
      "       [ 850.,  850., 2030.]])}\n"
     ]
    },
    {
     "data": {
      "text/plain": [
       "{'loss_output_train_t': {'num_of_iter': 3,\n",
       "  'mertic': 'loss_output_train_t',\n",
       "  'timestep': array([0, 1, 2, 3, 4, 5, 6, 7, 8, 9]),\n",
       "  'mean': array([-29106.89583333, -10923.21354167,  -6686.57275391,  -4658.60807292,\n",
       "          -3841.81005859,  -3263.9847819 ,  -2884.31046549,  -2613.31616211,\n",
       "          -2410.18855794,  -2246.18798828]),\n",
       "  'var': array([37130361.3872918 ,  2431750.42708418,    50627.54661989,\n",
       "           153027.83377971,   197061.39272738,   240755.53953236,\n",
       "           226712.23258878,   207401.33337069,   187107.18276407,\n",
       "           166237.21484196]),\n",
       "  'std': array([6093.46874836, 1559.40707549,  225.00565908,  391.18772192,\n",
       "          443.91597485,  490.66846193,  476.14307995,  455.41336538,\n",
       "          432.5588778 ,  407.72198229]),\n",
       "  'confidence_interval': array([6895.40901145, 1764.63522583,  254.61787257,  442.67057964,\n",
       "          502.33821485,  555.24363441,  538.80661735,  515.34873703,\n",
       "          489.4864497 ,  461.38085661])},\n",
       " 'acc_train_t': {'num_of_iter': 3,\n",
       "  'mertic': 'acc_train_t',\n",
       "  'timestep': array([0, 1, 2, 3, 4, 5, 6, 7, 8, 9]),\n",
       "  'mean': array([0.01111111, 0.43333334, 0.21111111, 0.31111112, 0.65555557,\n",
       "         0.56666666, 0.75555555, 0.45555556, 0.63333335, 0.58888888]),\n",
       "  'var': array([0.00024691, 0.03555555, 0.0891358 , 0.08913581, 0.00617284,\n",
       "         0.05555555, 0.00617284, 0.04839506, 0.00222222, 0.01580247]),\n",
       "  'std': array([0.01571348, 0.1885618 , 0.29855619, 0.2985562 , 0.0785674 ,\n",
       "         0.23570225, 0.07856743, 0.21998876, 0.04714044, 0.12570786]),\n",
       "  'confidence_interval': array([0.01778148, 0.21337776, 0.33784814, 0.33784815, 0.08890738,\n",
       "         0.2667222 , 0.08890742, 0.24894072, 0.05334442, 0.14225184])},\n",
       " 'spikenum_hid_t': {'num_of_iter': 3,\n",
       "  'mertic': 'spikenum_hid_t',\n",
       "  'timestep': array([0, 1, 2, 3, 4, 5, 6, 7, 8, 9]),\n",
       "  'mean': array([1324.33333333, 1235.66666667, 1238.66666667, 1230.        ,\n",
       "         1236.        , 1232.33333333, 1231.66666667, 1242.        ,\n",
       "         1247.33333333, 1243.33333333]),\n",
       "  'var': array([556160.88888889, 338938.88888889, 322672.22222222, 308898.        ,\n",
       "         321602.        , 317338.88888889, 306805.55555556, 312050.        ,\n",
       "         304720.22222222, 309422.22222222]),\n",
       "  'std': array([745.76195189, 582.18458318, 568.04244755, 555.78593001,\n",
       "         567.09963851, 563.32840235, 553.90031193, 558.61435714,\n",
       "         552.01469385, 556.25733453]),\n",
       "  'confidence_interval': array([843.9090928 , 658.8038746 , 642.80054161, 628.93098636,\n",
       "         641.73365275, 637.46609728, 626.79720863, 632.13165295,\n",
       "         624.66343089, 629.46443079])}}"
      ]
     },
     "execution_count": 5,
     "metadata": {},
     "output_type": "execute_result"
    }
   ],
   "source": [
    "r_1 = get_stat_for_hprof(target_hprofs_1, metrics)\n",
    "r_1"
   ]
  },
  {
   "cell_type": "code",
   "execution_count": 6,
   "metadata": {},
   "outputs": [
    {
     "name": "stdout",
     "output_type": "stream",
     "text": [
      "{'loss_output_train_t': array([[-20489.4296875 ],\n",
      "       [ -8717.87890625],\n",
      "       [ -6368.36669922],\n",
      "       [ -5211.83105469],\n",
      "       [ -4469.60205078],\n",
      "       [ -3957.89477539],\n",
      "       [ -3557.6784668 ],\n",
      "       [ -3257.36791992],\n",
      "       [ -3021.91918945],\n",
      "       [ -2822.79394531]]), 'acc_train_t': array([[0.03333334],\n",
      "       [0.69999999],\n",
      "       [0.63333333],\n",
      "       [0.73333335],\n",
      "       [0.76666665],\n",
      "       [0.89999998],\n",
      "       [0.86666667],\n",
      "       [0.76666665],\n",
      "       [0.69999999],\n",
      "       [0.76666665]]), 'spikenum_hid_t': array([[2379.],\n",
      "       [2059.],\n",
      "       [2042.],\n",
      "       [2016.],\n",
      "       [2038.],\n",
      "       [2029.],\n",
      "       [2015.],\n",
      "       [2032.],\n",
      "       [2028.],\n",
      "       [2030.]])}\n"
     ]
    }
   ],
   "source": [
    "target_hprofs_2 = get_hprof_separate_iter(hprof_file_list, input_hprof_2)\n",
    "r_2 = get_stat_for_hprof(target_hprofs_2, metrics)"
   ]
  },
  {
   "cell_type": "code",
   "execution_count": 7,
   "metadata": {},
   "outputs": [
    {
     "data": {
      "image/png": "[encoded data removed]",
      "text/plain": [
       "<Figure size 777.6x345.6 with 6 Axes>"
      ]
     },
     "metadata": {
      "needs_background": "light"
     },
     "output_type": "display_data"
    }
   ],
   "source": [
    "plot_one_feature([r_1, r_2], metrics)"
   ]
  },
  {
   "cell_type": "code",
   "execution_count": null,
   "metadata": {},
   "outputs": [],
   "source": []
  },
  {
   "cell_type": "code",
   "execution_count": null,
   "metadata": {},
   "outputs": [],
   "source": []
  },
  {
   "cell_type": "code",
   "execution_count": null,
   "metadata": {},
   "outputs": [],
   "source": []
  },
  {
   "cell_type": "code",
   "execution_count": null,
   "metadata": {},
   "outputs": [],
   "source": []
  },
  {
   "cell_type": "code",
   "execution_count": null,
   "metadata": {},
   "outputs": [],
   "source": []
  },
  {
   "cell_type": "code",
   "execution_count": null,
   "metadata": {},
   "outputs": [],
   "source": []
  },
  {
   "cell_type": "code",
   "execution_count": null,
   "metadata": {},
   "outputs": [],
   "source": []
  },
  {
   "cell_type": "code",
   "execution_count": null,
   "metadata": {},
   "outputs": [],
   "source": []
  },
  {
   "cell_type": "code",
   "execution_count": null,
   "metadata": {},
   "outputs": [],
   "source": []
  },
  {
   "cell_type": "code",
   "execution_count": null,
   "metadata": {},
   "outputs": [],
   "source": []
  },
  {
   "cell_type": "code",
   "execution_count": null,
   "metadata": {},
   "outputs": [],
   "source": []
  }
 ],
 "metadata": {
  "kernelspec": {
   "display_name": "Python 3",
   "language": "python",
   "name": "python3"
  },
  "language_info": {
   "codemirror_mode": {
    "name": "ipython",
    "version": 3
   },
   "file_extension": ".py",
   "mimetype": "text/x-python",
   "name": "python",
   "nbconvert_exporter": "python",
   "pygments_lexer": "ipython3",
   "version": "3.7.2"
  }
 },
 "nbformat": 4,
 "nbformat_minor": 4
}
